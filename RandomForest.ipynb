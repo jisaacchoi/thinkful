{
 "cells": [
  {
   "cell_type": "code",
   "execution_count": 78,
   "metadata": {},
   "outputs": [
    {
     "name": "stdout",
     "output_type": "stream",
     "text": [
      "Random forest classification has accuracy of :0.823\n",
      "99.106 seconds\n"
     ]
    }
   ],
   "source": [
    "import pandas as pd\n",
    "from sklearn import ensemble\n",
    "from sklearn.model_selection import cross_val_score\n",
    "import time\n",
    "\n",
    "start_time = time.time()\n",
    "data=pd.read_csv(r'C:\\Users\\jisaa\\Desktop\\50k datasets.txt')\n",
    "data.columns=['age','workclass','drop','education','drop','maritalstatus','occupation','drop','race','sex','capitalgain','capitalloss','hoursperweek','nativecountry','y']\n",
    "data=data.drop(['drop'],axis=1)\n",
    "data=data.dropna()\n",
    "\n",
    "capitalgain=data['capitalgain'].values\n",
    "newcapitalgain=list()\n",
    "for x in capitalgain:\n",
    "    if x>0:\n",
    "        x='Yes'\n",
    "    else:\n",
    "        x='No'\n",
    "    newcapitalgain.append(x)\n",
    "\n",
    "capitalloss=data['capitalloss'].values\n",
    "newcapitalloss=list()\n",
    "for x in capitalloss:\n",
    "    if x>0:\n",
    "        x='Yes'\n",
    "    else:\n",
    "        x='No'\n",
    "    newcapitalloss.append(x)\n",
    "\n",
    "hoursperweek=data['hoursperweek'].values\n",
    "newhoursperweek=list()\n",
    "for x in hoursperweek:\n",
    "    if x<=40:\n",
    "        x='Full'\n",
    "    else:\n",
    "        x='None/Part-time'\n",
    "    newhoursperweek.append(x)\n",
    "    \n",
    "data['capitalgain']=newcapitalgain\n",
    "data['capitalloss']=newcapitalloss\n",
    "data['hoursperweek']=newhoursperweek\n",
    "\n",
    "\n",
    "X=data.drop('y', 1)\n",
    "Y=data['y']\n",
    "X=pd.get_dummies(X)\n",
    "\n",
    "rf=ensemble.RandomForestClassifier(n_estimators=1000)\n",
    "result=float(cross_val_score(rf, X, Y).mean())\n",
    "print('Random forest classification has accuracy of :{:.3f}'.format(result))\n",
    "print(\"{:.3f} seconds\".format(time.time() - start_time))\n",
    "\n"
   ]
  },
  {
   "cell_type": "code",
   "execution_count": 49,
   "metadata": {},
   "outputs": [
    {
     "name": "stdout",
     "output_type": "stream",
     "text": [
      "0.830271122094481\n"
     ]
    }
   ],
   "source": []
  }
 ],
 "metadata": {
  "kernelspec": {
   "display_name": "Python 3",
   "language": "python",
   "name": "python3"
  },
  "language_info": {
   "codemirror_mode": {
    "name": "ipython",
    "version": 3
   },
   "file_extension": ".py",
   "mimetype": "text/x-python",
   "name": "python",
   "nbconvert_exporter": "python",
   "pygments_lexer": "ipython3",
   "version": "3.6.5"
  }
 },
 "nbformat": 4,
 "nbformat_minor": 2
}
