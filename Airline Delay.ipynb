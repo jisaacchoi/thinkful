{
 "cells": [
  {
   "cell_type": "code",
   "execution_count": 1,
   "metadata": {},
   "outputs": [],
   "source": [
    "import pandas as pd\n",
    "from sklearn import ensemble\n",
    "from sklearn.model_selection import cross_val_score\n",
    "import time\n",
    "from sklearn.model_selection import train_test_split\n",
    "import numpy as np\n",
    "\n",
    "pd.set_option('display.max_columns', None)\n",
    "\n",
    "data=pd.read_csv(r'C:\\Users\\jisaa\\Desktop\\2008.csv\\2008.csv')"
   ]
  },
  {
   "cell_type": "code",
   "execution_count": 2,
   "metadata": {},
   "outputs": [],
   "source": [
    "templist=['Year','Month','DayofMonth','DayOfWeek','DepTime','CRSDepTime',\n",
    "          'ArrTime','CRSArrTime','UniqueCarrier','ActualElapsedTime',\n",
    "          'CRSElapsedTime','AirTime','ArrDelay','DepDelay','Origin','Dest','Distance']\n",
    "data=data[templist]\n",
    "data=data.dropna(subset=templist)"
   ]
  },
  {
   "cell_type": "code",
   "execution_count": 3,
   "metadata": {},
   "outputs": [],
   "source": [
    "data=data.rename(columns={'DepDelay':'y'})\n",
    "data=data.loc[lambda x: x['y']>30,:]\n",
    "\n",
    "templist=['ActualElapsedTime','CRSElapsedTime','AirTime',\n",
    "          'ArrDelay','y','DepTime','CRSDepTime','ArrTime','CRSArrTime']\n",
    "data.loc[:,templist] = data.loc[:,templist].astype(int)\n",
    "\n",
    "templist=['DepTime','CRSDepTime','ArrTime','CRSArrTime']\n",
    "for x in templist:\n",
    "    data.loc[:,x]=pd.to_datetime(data.loc[:,x].astype(str),format='%H%M',errors='coerce').dt.hour"
   ]
  },
  {
   "cell_type": "code",
   "execution_count": 4,
   "metadata": {},
   "outputs": [],
   "source": [
    "def cutoff(columnname,percentile):\n",
    "    count=pd.DataFrame(data.groupby([columnname]).count()['Year'])\n",
    "    count=count.sort_values(by=['Year'], ascending=False)\n",
    "    count['cum_sum'] = count.Year.cumsum()\n",
    "    count['cum_perc'] = 100*count.cum_sum/count.Year.sum()\n",
    "    count=count.loc[count.cum_perc<percentile]\n",
    "    return count.index.values\n",
    "\n",
    "carrier75=cutoff('UniqueCarrier',75)\n",
    "origin75=cutoff('Origin',75)\n",
    "dest75=cutoff('Dest',75)\n",
    "carrier=data.UniqueCarrier.values\n",
    "origin=data.Origin.values\n",
    "dest=data.Dest.values\n",
    "newcarrier=[x if x in carrier75 else \"Other\" for x in carrier]\n",
    "neworigin=[x if x in origin75 else \"Other\" for x in origin]\n",
    "newdest=[x if x in dest75 else \"Other\" for x in dest]\n",
    "\n",
    "data['UniqueCarrier']=newcarrier\n",
    "data['Origin']=neworigin\n",
    "data['Dest']=newdest\n",
    "\n",
    "holiday=['2018-1-1','2018-1-21','2018-2-18','2018-5-26','2018-7-4','2018-9-1','2018-11-27','2018-11-28','2018-12-24','2018-12-25','2018-12-31']\n",
    "data['date']=data['Year'].astype(str)+\"-\"+data['Month'].astype(str)+\"-\"+data['DayofMonth'].astype(str)\n",
    "data['holiday']=data['date'].isin(holiday)"
   ]
  },
  {
   "cell_type": "code",
   "execution_count": 5,
   "metadata": {},
   "outputs": [],
   "source": [
    "#\n",
    "data=data.sample(frac=0.1)\n",
    "data=data.reset_index()\n",
    "#\n",
    "\n",
    "templist=['Month','DayofMonth','DayOfWeek','DepTime','CRSDepTime','ArrTime',\n",
    "          'CRSArrTime','holiday','UniqueCarrier','Origin','Dest']\n",
    "dummyx=data[templist]\n",
    "dummyx=dummyx.astype('category')\n",
    "dummyx= pd.get_dummies(dummyx)\n",
    "\n",
    "templist=['ArrDelay','ActualElapsedTime', 'CRSElapsedTime', 'AirTime','ArrDelay']\n",
    "continuousx=data[templist]\n",
    "\n",
    "X=pd.concat([dummyx, continuousx], axis=1, sort=True)\n",
    "y=data['y']"
   ]
  },
  {
   "cell_type": "code",
   "execution_count": 6,
   "metadata": {},
   "outputs": [
    {
     "name": "stderr",
     "output_type": "stream",
     "text": [
      "C:\\Users\\jisaa\\Anaconda3\\lib\\site-packages\\ipykernel_launcher.py:1: UserWarning: Pandas doesn't allow columns to be created via a new attribute name - see https://pandas.pydata.org/pandas-docs/stable/indexing.html#attribute-access\n",
      "  \"\"\"Entry point for launching an IPython kernel.\n"
     ]
    },
    {
     "data": {
      "text/plain": [
       "RandomForestRegressor(bootstrap=True, criterion='mse', max_depth=None,\n",
       "           max_features='auto', max_leaf_nodes=None,\n",
       "           min_impurity_decrease=0.0, min_impurity_split=None,\n",
       "           min_samples_leaf=1, min_samples_split=2,\n",
       "           min_weight_fraction_leaf=0.0, n_estimators=100, n_jobs=None,\n",
       "           oob_score=False, random_state=None, verbose=0, warm_start=False)"
      ]
     },
     "execution_count": 6,
     "metadata": {},
     "output_type": "execute_result"
    }
   ],
   "source": [
    "X.train,X.test,y.train,y.test=train_test_split(X, y, test_size = 0.25)\n",
    "\n",
    "rf=ensemble.RandomForestRegressor(n_estimators=100)\n",
    "rf.fit(X.train, y.train)"
   ]
  },
  {
   "cell_type": "code",
   "execution_count": 7,
   "metadata": {},
   "outputs": [
    {
     "name": "stdout",
     "output_type": "stream",
     "text": [
      "Mean Absolute Error: 2.12 degrees.\n"
     ]
    }
   ],
   "source": [
    "y.pred= rf.predict(X.test)\n",
    "errors = abs(y.pred - y.test)\n",
    "print('Mean Absolute Error:', round(np.mean(errors), 2), 'degrees.')"
   ]
  }
 ],
 "metadata": {
  "kernelspec": {
   "display_name": "Python 3",
   "language": "python",
   "name": "python3"
  },
  "language_info": {
   "codemirror_mode": {
    "name": "ipython",
    "version": 3
   },
   "file_extension": ".py",
   "mimetype": "text/x-python",
   "name": "python",
   "nbconvert_exporter": "python",
   "pygments_lexer": "ipython3",
   "version": "3.6.5"
  }
 },
 "nbformat": 4,
 "nbformat_minor": 2
}
