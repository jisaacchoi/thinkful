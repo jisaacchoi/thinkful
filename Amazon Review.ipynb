{
 "cells": [
  {
   "cell_type": "code",
   "execution_count": 139,
   "metadata": {},
   "outputs": [
    {
     "name": "stdout",
     "output_type": "stream",
     "text": [
      "Review  Bad  Good\n",
      "row_0            \n",
      "Bad     159    67\n",
      "Good      6    98\n"
     ]
    }
   ],
   "source": [
    "%matplotlib inline\n",
    "import numpy as np\n",
    "import pandas as pd\n",
    "import scipy\n",
    "import sklearn\n",
    "import matplotlib.pyplot as plt\n",
    "import seaborn as sns\n",
    "from sklearn.naive_bayes import BernoulliNB\n",
    "from sklearn.model_selection import train_test_split\n",
    "import re\n",
    "\n",
    "pd.set_option('display.max_columns', None)\n",
    "pd.options.display.max_colwidth=100\n",
    "\n",
    "#\n",
    "amzndata=pd.read_csv (r'C:\\Users\\Isaac Choi\\Desktop\\amazon_cells_labelled.txt',\n",
    "                   delimiter='\\t',header=None)\n",
    "amzndata.columns=[\"Comment\",\"Review\"]\n",
    "\n",
    "#\n",
    "review=amzndata.Review.values\n",
    "temp=['Good' if x==1 else 'Bad'  for x in review]\n",
    "amzndata[\"Review\"]=temp\n",
    "\n",
    "comment=amzndata.Comment.values\n",
    "revcomment=list()\n",
    "for x in comment:\n",
    "    x=x.lower()\n",
    "    regex1=' doesnt '\n",
    "    regex2=' dont '\n",
    "    regex3=' isnt '\n",
    "    regex4=' arent '\n",
    "    regex5=' cant '\n",
    "    regex6=' aint '\n",
    "    regex6=' no '\n",
    "    regex7=' didnt '\n",
    "    regex8=' wasnt '\n",
    "    regex9=' couldnt '\n",
    "    x=re.sub('[\\.!]',\" |\",x)\n",
    "    x=re.sub('\\'','',x)\n",
    "    x=re.sub('^',' ',x)\n",
    "    x=re.sub('$',' ',x)\n",
    "    x=re.sub(regex1,\" not \",x)\n",
    "    x=re.sub(regex2,\" not \",x)\n",
    "    x=re.sub(regex3,\" not \",x)\n",
    "    x=re.sub(regex4,\" not \",x)\n",
    "    x=re.sub(regex5,\" not \",x)\n",
    "    x=re.sub(regex6,\" not \",x)\n",
    "    x=re.sub(regex7,\" not \",x)\n",
    "    x=re.sub(regex8,\" not \",x)\n",
    "    x=re.sub(regex9,\" not \",x)\n",
    "    revcomment.append(x)\n",
    "amzndata['revComment']=revcomment\n",
    "    \n",
    "\n",
    "with open(r'C:\\Users\\Isaac Choi\\Desktop\\positive words.txt') as file1:\n",
    "    poswordlist=file1.readlines()\n",
    "    \n",
    "poswordlist=[' '+x.strip()+' ' for x in poswordlist]\n",
    "poswordlist.append(' not ')\n",
    "# poswordlist=poswordlist[0:20]\n",
    "# poswordlist=['comfortable']\n",
    "# print(poswordlist)\n",
    "\n",
    "for word in poswordlist:\n",
    "    notword='not '+word\n",
    "    amzndata[notword]=[True if re.findall(r'not [^|]*'+word,x,re.IGNORECASE) else False for x in amzndata.revComment.values]\n",
    "    amzndata[word]=[True if re.findall(word,x,re.IGNORECASE) else False for x in amzndata.revComment.values]\n",
    "    X=amzndata[word].values\n",
    "    Y=amzndata[notword].values\n",
    "    newword=list()\n",
    "    for x,y in zip(X,Y):\n",
    "        if (x==True) & (y==True):\n",
    "            z=False\n",
    "        else:\n",
    "            z=x\n",
    "        newword.append(z)\n",
    "    amzndata[word]=newword\n",
    "amzndata.to_csv(r'C:\\Users\\Isaac Choi\\Desktop\\amazonoutput.csv')\n",
    "    \n",
    "X = amzndata.drop([\"Review\", \"Comment\",\"revComment\"], axis=1)\n",
    "y = amzndata['Review']\n",
    "\n",
    "# X.head()\n",
    "X_train, X_test, y_train, y_test = train_test_split(X, y, test_size=0.33)\n",
    "\n",
    "bnb = BernoulliNB()\n",
    "bnb.fit(X_train, y_train)\n",
    "y_pred = bnb.predict(X_test)\n",
    "\n",
    "bnbresult=pd.crosstab(y_pred,y_test)\n",
    "print(bnbresult)"
   ]
  },
  {
   "cell_type": "code",
   "execution_count": 28,
   "metadata": {},
   "outputs": [
    {
     "name": "stdout",
     "output_type": "stream",
     "text": [
      "['Comment' 'Review' 'ï»¿a+' ... 'not zest' 'zippy' 'not zippy']\n"
     ]
    },
    {
     "data": {
      "text/plain": [
       "142    True\n",
       "Name: not happy, dtype: bool"
      ]
     },
     "execution_count": 28,
     "metadata": {},
     "output_type": "execute_result"
    }
   ],
   "source": [
    "sub=amzndata.loc[lambda x: x['Comment']=='I was not happy with this item.']\n",
    "print(sub.columns.values)\n",
    "sub['not happy']"
   ]
  },
  {
   "cell_type": "code",
   "execution_count": null,
   "metadata": {},
   "outputs": [],
   "source": []
  }
 ],
 "metadata": {
  "kernelspec": {
   "display_name": "Python 3",
   "language": "python",
   "name": "python3"
  },
  "language_info": {
   "codemirror_mode": {
    "name": "ipython",
    "version": 3
   },
   "file_extension": ".py",
   "mimetype": "text/x-python",
   "name": "python",
   "nbconvert_exporter": "python",
   "pygments_lexer": "ipython3",
   "version": "3.6.5"
  }
 },
 "nbformat": 4,
 "nbformat_minor": 2
}
