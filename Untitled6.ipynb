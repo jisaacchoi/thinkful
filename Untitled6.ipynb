{
 "cells": [
  {
   "cell_type": "code",
   "execution_count": 7,
   "metadata": {},
   "outputs": [],
   "source": [
    "%matplotlib inline\n",
    "import numpy as np\n",
    "import pandas as pd\n",
    "import scipy\n",
    "import sklearn\n",
    "import matplotlib.pyplot as plt\n",
    "import seaborn as sns\n",
    "from sklearn.naive_bayes import BernoulliNB\n",
    "#\n",
    "amzndata=pd. read_csv (r'C:\\Users\\Isaac Choi\\Desktop\\amazon_cells_labelled.txt',\n",
    "                   delimiter='\\t',header=None)\n",
    "amzndata.columns=[\"Comment\",\"Review\"]\n",
    "\n",
    "#\n",
    "review=amzndata.Review.values\n",
    "temp=list()\n",
    "for x in review:\n",
    "    if x==1:\n",
    "        x=\"Good\"\n",
    "    else:\n",
    "        x=\"Bad\"\n",
    "    temp.append(x)\n",
    "amzndata[\"Review\"]=temp\n",
    "\n",
    "with open(r'C:\\Users\\Isaac Choi\\Desktop\\positive words.txt') as file1:\n",
    "    poswordlist=file1.readlines()\n",
    "poswordlist=[x.strip() for x in poswordlist]\n",
    "\n",
    "with open(r'C:\\Users\\Isaac Choi\\Desktop\\negative words.txt') as file2:\n",
    "    negwordlist=file2.readlines()\n",
    "negwordlist=[x.strip() for x in negwordlist]\n",
    "\n",
    "for word in poswordlist:\n",
    "    amzndata[word]=amzndata.Comment.str.contains(' '+word+' ',case=False)\n",
    "    \n",
    "for word in negwordlist:\n",
    "    amzndata[word]=amzndata.Comment.str.contains(' '+word+' ',case=False)\n",
    "\n",
    "bnb1 = BernoulliNB()  \n",
    "bnb2 = BernoulliNB()  \n",
    "data1 = amzndata[poswordlist]\n",
    "target1 = amzndata['Review']\n",
    "bnb1.fit(data1, target1)\n",
    "y_pred1 = bnb1.predict(data1)\n",
    "\n",
    "data2= amzndata[negwordlist]\n",
    "target2 = amzndata['Review']\n",
    "bnb2.fit(data2, target2)\n",
    "y_pred2 = bnb2.predict(data2)\n",
    "\n",
    "amzndata[\"bnbpredictGood\"]=y_pred1\n",
    "amzndata[\"bnbpredictBad\"]=y_pred2\n",
    "\n",
    "outputdata=amzndata[[\"Comment\",\"Review\",\"bnbpredictGood\",\"bnbpredictBad\"]]\n",
    "outputdata.to_csv(r'C:\\Users\\Isaac Choi\\Desktop\\output.txt')"
   ]
  },
  {
   "cell_type": "code",
   "execution_count": null,
   "metadata": {},
   "outputs": [],
   "source": []
  },
  {
   "cell_type": "code",
   "execution_count": null,
   "metadata": {},
   "outputs": [],
   "source": []
  }
 ],
 "metadata": {
  "kernelspec": {
   "display_name": "Python 3",
   "language": "python",
   "name": "python3"
  },
  "language_info": {
   "codemirror_mode": {
    "name": "ipython",
    "version": 3
   },
   "file_extension": ".py",
   "mimetype": "text/x-python",
   "name": "python",
   "nbconvert_exporter": "python",
   "pygments_lexer": "ipython3",
   "version": "3.6.5"
  }
 },
 "nbformat": 4,
 "nbformat_minor": 2
}
